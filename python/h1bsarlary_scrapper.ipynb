{
 "cells": [
  {
   "cell_type": "code",
   "execution_count": 2,
   "metadata": {
    "collapsed": false
   },
   "outputs": [
    {
     "name": "stdout",
     "output_type": "stream",
     "text": [
      "(12000, 5)\n"
     ]
    },
    {
     "name": "stderr",
     "output_type": "stream",
     "text": [
      "/Library/Python/2.7/site-packages/ipykernel/__main__.py:4: ParserWarning: Falling back to the 'python' engine because the 'c' engine does not support regex separators (separators > 1 char and different from '\\s+' are interpreted as regex); you can avoid this warning by specifying engine='python'.\n"
     ]
    }
   ],
   "source": [
    "# prepare environment\n",
    "import pandas\n",
    "\n",
    "top_companies = pandas.read_table(\"../data/top_companies.txt\", sep='    ')\n",
    "print top_companies.shape\n",
    "\n",
    "top_companies.head()\n",
    "del top_companies['Latest Filings']"
   ]
  },
  {
   "cell_type": "code",
   "execution_count": 3,
   "metadata": {
    "collapsed": false
   },
   "outputs": [
    {
     "name": "stdout",
     "output_type": "stream",
     "text": [
      "INFOSYS+LIMITED\n",
      "TATA+CONSULTANCY+SERVICES+LIMITED\n"
     ]
    },
    {
     "ename": "OperationalError",
     "evalue": "near \"FALLON\": syntax error",
     "output_type": "error",
     "traceback": [
      "\u001b[0;31m---------------------------------------------------------------------------\u001b[0m",
      "\u001b[0;31mOperationalError\u001b[0m                          Traceback (most recent call last)",
      "\u001b[0;32m<ipython-input-3-61c6f10b4be4>\u001b[0m in \u001b[0;36m<module>\u001b[0;34m()\u001b[0m\n\u001b[1;32m     27\u001b[0m                 \u001b[0mrow_to_insert\u001b[0m \u001b[0;34m=\u001b[0m \u001b[0;34m\"'\"\u001b[0m \u001b[0;34m+\u001b[0m \u001b[0mtext\u001b[0m\u001b[0;34m.\u001b[0m\u001b[0mreplace\u001b[0m\u001b[0;34m(\u001b[0m\u001b[0;34m\";\"\u001b[0m\u001b[0;34m,\u001b[0m\u001b[0;34m\"','\"\u001b[0m\u001b[0;34m)\u001b[0m\u001b[0;34m[\u001b[0m\u001b[0;34m:\u001b[0m\u001b[0;34m-\u001b[0m\u001b[0;36m2\u001b[0m\u001b[0;34m]\u001b[0m\u001b[0;34m\u001b[0m\u001b[0m\n\u001b[1;32m     28\u001b[0m                 \u001b[0;31m#print row_to_insert\u001b[0m\u001b[0;34m\u001b[0m\u001b[0;34m\u001b[0m\u001b[0m\n\u001b[0;32m---> 29\u001b[0;31m                 \u001b[0mc\u001b[0m\u001b[0;34m.\u001b[0m\u001b[0mexecute\u001b[0m\u001b[0;34m(\u001b[0m\u001b[0;34m\"INSERT INTO salary VALUES (\"\u001b[0m \u001b[0;34m+\u001b[0m \u001b[0mrow_to_insert\u001b[0m \u001b[0;34m+\u001b[0m \u001b[0;34m\")\"\u001b[0m\u001b[0;34m)\u001b[0m\u001b[0;34m\u001b[0m\u001b[0m\n\u001b[0m\u001b[1;32m     30\u001b[0m     \u001b[0mconn\u001b[0m\u001b[0;34m.\u001b[0m\u001b[0mcommit\u001b[0m\u001b[0;34m(\u001b[0m\u001b[0;34m)\u001b[0m\u001b[0;34m\u001b[0m\u001b[0m\n\u001b[1;32m     31\u001b[0m \u001b[0;34m\u001b[0m\u001b[0m\n",
      "\u001b[0;31mOperationalError\u001b[0m: near \"FALLON\": syntax error"
     ]
    }
   ],
   "source": [
    "import urllib2\n",
    "from bs4 import BeautifulSoup\n",
    "import sqlite3\n",
    "\n",
    "conn = sqlite3.connect('h1b_salary.db')\n",
    "c = conn.cursor() \n",
    "c.execute(\"DROP TABLE salary\")\n",
    "c.execute('''CREATE TABLE salary\n",
    "             (company_name text, job_title text, salary integer, city_name text, submit_date text, start_date text, status text)''')\n",
    "\n",
    "# loop over top companies list\n",
    "for index, row in top_companies.iterrows():\n",
    "    employer = row[\"Company Name\"].replace(\" \",\"+\")\n",
    "    print employer\n",
    "    url = \"http://h1bdata.info/index.php?em=\"+employer+\"&job=&city=&year=All+Years\"\n",
    "    soup = BeautifulSoup(urllib2.urlopen(url).read(),'html.parser')\n",
    "    table = soup.find('table', attrs={'id': 'myTable'})\n",
    "\n",
    "    rows = table.findAll('tr')\n",
    "\n",
    "    for tr in rows:\n",
    "        cols = tr.findAll('td')\n",
    "        text = \"\"\n",
    "        for td in cols:\n",
    "            text = text + td.find(text=True) + ';'\n",
    "            if text.count(\";\") == 7:\n",
    "                row_to_insert = \"'\" + text.replace(\";\",\"','\")[:-2]\n",
    "                #print row_to_insert\n",
    "                c.execute(\"INSERT INTO salary VALUES (\" + row_to_insert + \")\")\n",
    "    conn.commit()\n",
    "\n",
    "#for row in c.execute('SELECT * FROM salary'):\n",
    "#    print row\n",
    "    \n",
    "conn.close()"
   ]
  },
  {
   "cell_type": "code",
   "execution_count": null,
   "metadata": {
    "collapsed": false
   },
   "outputs": [],
   "source": []
  },
  {
   "cell_type": "code",
   "execution_count": null,
   "metadata": {
    "collapsed": true
   },
   "outputs": [],
   "source": []
  }
 ],
 "metadata": {
  "kernelspec": {
   "display_name": "Python 2",
   "language": "python",
   "name": "python2"
  },
  "language_info": {
   "codemirror_mode": {
    "name": "ipython",
    "version": 2
   },
   "file_extension": ".py",
   "mimetype": "text/x-python",
   "name": "python",
   "nbconvert_exporter": "python",
   "pygments_lexer": "ipython2",
   "version": "2.7.12"
  }
 },
 "nbformat": 4,
 "nbformat_minor": 1
}
