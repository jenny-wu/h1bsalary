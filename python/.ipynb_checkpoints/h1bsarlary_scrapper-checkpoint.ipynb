{
 "cells": [
  {
   "cell_type": "code",
   "execution_count": 1,
   "metadata": {
    "collapsed": false
   },
   "outputs": [
    {
     "name": "stdout",
     "output_type": "stream",
     "text": [
      "(12000, 5)\n"
     ]
    },
    {
     "name": "stderr",
     "output_type": "stream",
     "text": [
      "/Library/Python/2.7/site-packages/ipykernel/__main__.py:4: ParserWarning: Falling back to the 'python' engine because the 'c' engine does not support regex separators (separators > 1 char and different from '\\s+' are interpreted as regex); you can avoid this warning by specifying engine='python'.\n"
     ]
    }
   ],
   "source": [
    "# prepare environment\n",
    "import pandas\n",
    "\n",
    "top_companies = pandas.read_table(\"../data/top_companies.txt\", sep='    ')\n",
    "print top_companies.shape\n",
    "\n",
    "top_companies.head()\n",
    "del top_companies['Latest Filings']"
   ]
  },
  {
   "cell_type": "code",
   "execution_count": 118,
   "metadata": {
    "collapsed": false
   },
   "outputs": [
    {
     "name": "stdout",
     "output_type": "stream",
     "text": [
      "'JOINT VENTURE ASSOCIATES LLC','FINANCIAL ANALYST','50,000','WASHINGTON DC, DC','02/13/2015','08/12/2015','CERTIFIED'\n",
      "'JOINT VENTURE ASSOCIATES LLC','FINANCIAL ANALYST','46,675','WASHINGTON, DC','02/13/2015','08/12/2015','CERTIFIED'\n",
      "'JOINT VENTURE ASSOCIATES LLC','SOFTWARE ENGINEER','45,000','WASHINGTON DC, DC','02/13/2015','08/12/2015','CERTIFIED'\n",
      "'JOINT VENTURE ASSOCIATES LLC','SOFTWARE ENGINEER','45,900','WASHINGTON DC, DC','02/13/2015','08/12/2015','CERTIFIED'\n",
      "'JOINT VENTURE ASSOCIATES LLC','SOFTWARE ENGINEER','72,000','WASHINGTON DC, DC','02/26/2014','08/26/2014','CERTIFIED'\n",
      "'JOINT VENTURE ASSOCIATES LLC','SOFTWARE ENGINEER','72,000','MILLERSVILLE, MD','01/21/2013','02/15/2013','CERTIFIED'\n",
      "'JOINT VENTURE ASSOCIATES LLC','SOFTWARE ENGINEER','84,800','WASHINGTON DC, DC','02/13/2015','08/12/2015','CERTIFIED'\n",
      "(u'JOINT VENTURE ASSOCIATES LLC', u'FINANCIAL ANALYST', u'50,000', u'WASHINGTON DC, DC', u'02/13/2015', u'08/12/2015', u'CERTIFIED')\n",
      "(u'JOINT VENTURE ASSOCIATES LLC', u'FINANCIAL ANALYST', u'46,675', u'WASHINGTON, DC', u'02/13/2015', u'08/12/2015', u'CERTIFIED')\n",
      "(u'JOINT VENTURE ASSOCIATES LLC', u'SOFTWARE ENGINEER', u'45,000', u'WASHINGTON DC, DC', u'02/13/2015', u'08/12/2015', u'CERTIFIED')\n",
      "(u'JOINT VENTURE ASSOCIATES LLC', u'SOFTWARE ENGINEER', u'45,900', u'WASHINGTON DC, DC', u'02/13/2015', u'08/12/2015', u'CERTIFIED')\n",
      "(u'JOINT VENTURE ASSOCIATES LLC', u'SOFTWARE ENGINEER', u'72,000', u'WASHINGTON DC, DC', u'02/26/2014', u'08/26/2014', u'CERTIFIED')\n",
      "(u'JOINT VENTURE ASSOCIATES LLC', u'SOFTWARE ENGINEER', u'72,000', u'MILLERSVILLE, MD', u'01/21/2013', u'02/15/2013', u'CERTIFIED')\n",
      "(u'JOINT VENTURE ASSOCIATES LLC', u'SOFTWARE ENGINEER', u'84,800', u'WASHINGTON DC, DC', u'02/13/2015', u'08/12/2015', u'CERTIFIED')\n"
     ]
    }
   ],
   "source": [
    "import urllib2\n",
    "from bs4 import BeautifulSoup\n",
    "import sqlite3\n",
    "\n",
    "conn = sqlite3.connect('h1b_salary.db')\n",
    "c = conn.cursor() \n",
    "c.execute(\"DROP TABLE salary\")\n",
    "c.execute('''CREATE TABLE salary\n",
    "             (company_name text, job_title text, salary integer, city_name text, submit_date text, start_date text, status text)''')\n",
    "\n",
    "# loop over top companies list\n",
    "for index, row in top_companies.iterrows():\n",
    "    employer = row[\"Company Name\"].replace(\" \",\"+\")\n",
    "    print employer\n",
    "    url = \"http://h1bdata.info/index.php?em=\"+employer+\"&job=&city=&year=All+Years\"\n",
    "    soup = BeautifulSoup(urllib2.urlopen(url).read(),'html.parser')\n",
    "    table = soup.find('table', attrs={'id': 'myTable'})\n",
    "\n",
    "    rows = table.findAll('tr')\n",
    "\n",
    "    for tr in rows:\n",
    "        cols = tr.findAll('td')\n",
    "        text = \"\"\n",
    "        for td in cols:\n",
    "            text = text + td.find(text=True) + ';'\n",
    "            if text.count(\";\") == 7:\n",
    "                row_to_insert = \"'\" + text.replace(\";\",\"','\")[:-2]\n",
    "                #print row_to_insert\n",
    "                c.execute(\"INSERT INTO salary VALUES (\" + row_to_insert + \")\")\n",
    "    conn.commit()\n",
    "\n",
    "#for row in c.execute('SELECT * FROM salary'):\n",
    "#    print row\n",
    "    \n",
    "conn.close()"
   ]
  },
  {
   "cell_type": "code",
   "execution_count": 89,
   "metadata": {
    "collapsed": false
   },
   "outputs": [
    {
     "ename": "OperationalError",
     "evalue": "database is locked",
     "output_type": "error",
     "traceback": [
      "\u001b[0;31m---------------------------------------------------------------------------\u001b[0m",
      "\u001b[0;31mOperationalError\u001b[0m                          Traceback (most recent call last)",
      "\u001b[0;32m<ipython-input-89-7602d8afd625>\u001b[0m in \u001b[0;36m<module>\u001b[0;34m()\u001b[0m\n\u001b[0;32m----> 1\u001b[0;31m \u001b[0mc\u001b[0m\u001b[0;34m.\u001b[0m\u001b[0mexecute\u001b[0m\u001b[0;34m(\u001b[0m\u001b[0;34m\"DROP TABLE salary\"\u001b[0m\u001b[0;34m)\u001b[0m\u001b[0;34m\u001b[0m\u001b[0m\n\u001b[0m\u001b[1;32m      2\u001b[0m c.execute('''CREATE TABLE salary\n\u001b[1;32m      3\u001b[0m              (company_name text, job_title text, salary integer, city_name text, submit_date text, start_date text, status text)''')\n\u001b[1;32m      4\u001b[0m \u001b[0;34m\u001b[0m\u001b[0m\n",
      "\u001b[0;31mOperationalError\u001b[0m: database is locked"
     ]
    }
   ],
   "source": [
    "\n"
   ]
  },
  {
   "cell_type": "code",
   "execution_count": 115,
   "metadata": {
    "collapsed": false
   },
   "outputs": [
    {
     "name": "stdout",
     "output_type": "stream",
     "text": [
      "<sqlite3.Connection object at 0x10876e858>\n"
     ]
    }
   ],
   "source": [
    "conn.close()\n",
    "print conn"
   ]
  },
  {
   "cell_type": "code",
   "execution_count": 91,
   "metadata": {
    "collapsed": true
   },
   "outputs": [],
   "source": [
    "conn = sqlite3.connect('h1b_salary.db')\n",
    "c = conn.cursor()"
   ]
  },
  {
   "cell_type": "code",
   "execution_count": 95,
   "metadata": {
    "collapsed": true
   },
   "outputs": [],
   "source": [
    "for row in c.execute('SELECT * FROM salary'):\n",
    "    print row"
   ]
  },
  {
   "cell_type": "code",
   "execution_count": null,
   "metadata": {
    "collapsed": true
   },
   "outputs": [],
   "source": []
  }
 ],
 "metadata": {
  "kernelspec": {
   "display_name": "Python 2",
   "language": "python",
   "name": "python2"
  },
  "language_info": {
   "codemirror_mode": {
    "name": "ipython",
    "version": 2
   },
   "file_extension": ".py",
   "mimetype": "text/x-python",
   "name": "python",
   "nbconvert_exporter": "python",
   "pygments_lexer": "ipython2",
   "version": "2.7.12"
  }
 },
 "nbformat": 4,
 "nbformat_minor": 1
}
